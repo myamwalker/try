{
 "cells": [
  {
   "cell_type": "markdown",
   "id": "5281672e",
   "metadata": {},
   "source": [
    "# Day 4\n",
    "* Data Types\n",
    "     * Numbers\n",
    "     * Strings\n",
    "     * Variable Assignment\n",
    "     * Printing\n",
    "     * Strings Methods\n",
    "     * Lists\n",
    "     * Dictionaries\n",
    "     * Boolians\n",
    "     * Tuples\n",
    "     * Sets\n",
    "* Basic Operations\n",
    "     * Comparison Operators\n",
    "     * if, elif, else statements\n",
    "     * for loops\n",
    "     * while loops\n",
    "     * range ()\n",
    "     * list comprehension\n",
    "     * functions\n",
    "     * lambda expressions\n",
    "     * map and filter"
   ]
  },
  {
   "cell_type": "markdown",
   "id": "2182486b",
   "metadata": {},
   "source": [
    "* Integers:... -5, -4, -3, -2, -1, 0, 1, 2, 3, 4..."
   ]
  },
  {
   "cell_type": "markdown",
   "id": "36945670",
   "metadata": {},
   "source": [
    "* Floats: decimals, rationals, irrationals\n",
    "* exp is $\\pi$, $\\frac{1}{3}$"
   ]
  },
  {
   "cell_type": "code",
   "execution_count": 1,
   "id": "6becf014",
   "metadata": {
    "scrolled": true
   },
   "outputs": [
    {
     "data": {
      "text/plain": [
       "float"
      ]
     },
     "execution_count": 1,
     "metadata": {},
     "output_type": "execute_result"
    }
   ],
   "source": [
    "type(3.14)"
   ]
  },
  {
   "cell_type": "code",
   "execution_count": 2,
   "id": "8c8d42e3",
   "metadata": {},
   "outputs": [
    {
     "data": {
      "text/plain": [
       "float"
      ]
     },
     "execution_count": 2,
     "metadata": {},
     "output_type": "execute_result"
    }
   ],
   "source": [
    "type(0.33)"
   ]
  },
  {
   "cell_type": "markdown",
   "id": "f972f703",
   "metadata": {},
   "source": [
    "* Strings: Example \"Moussa\", 'Howard', ' ', '2', '%'"
   ]
  },
  {
   "cell_type": "code",
   "execution_count": 3,
   "id": "9406ef1b",
   "metadata": {},
   "outputs": [
    {
     "name": "stdout",
     "output_type": "stream",
     "text": [
      "<class 'str'>\n"
     ]
    }
   ],
   "source": [
    "print(type('I am single quote'))"
   ]
  },
  {
   "cell_type": "code",
   "execution_count": 4,
   "id": "8fc1db00",
   "metadata": {},
   "outputs": [
    {
     "name": "stdout",
     "output_type": "stream",
     "text": [
      "<class 'str'>\n"
     ]
    }
   ],
   "source": [
    "print(type(\"I am double quotes\"))"
   ]
  },
  {
   "cell_type": "code",
   "execution_count": 5,
   "id": "46b955b3",
   "metadata": {},
   "outputs": [
    {
     "name": "stdout",
     "output_type": "stream",
     "text": [
      "<class 'str'>\n"
     ]
    }
   ],
   "source": [
    "print(type(\" \"))"
   ]
  },
  {
   "cell_type": "markdown",
   "id": "a22ccc57",
   "metadata": {},
   "source": [
    "* Variable Assignment: Never start a variable name with a number ex.) 2x = \"Hello\"\n",
    "* Can do this: x2 = \"hello\", or x_2=\"hello\"\n",
    "* don't do this: 10 = x, do x = 10\n",
    "* don't do this: y = 'world!'\n",
    "* variable goes on left, value goes on right"
   ]
  },
  {
   "cell_type": "code",
   "execution_count": 8,
   "id": "3bb3b45c",
   "metadata": {},
   "outputs": [
    {
     "ename": "SyntaxError",
     "evalue": "cannot assign to literal (1189946331.py, line 1)",
     "output_type": "error",
     "traceback": [
      "\u001b[0;36m  Input \u001b[0;32mIn [8]\u001b[0;36m\u001b[0m\n\u001b[0;31m    10 = x\u001b[0m\n\u001b[0m    ^\u001b[0m\n\u001b[0;31mSyntaxError\u001b[0m\u001b[0;31m:\u001b[0m cannot assign to literal\n"
     ]
    }
   ],
   "source": [
    "10 = x\n",
    "print(x)"
   ]
  },
  {
   "cell_type": "code",
   "execution_count": 9,
   "id": "e3c4d28a",
   "metadata": {},
   "outputs": [
    {
     "name": "stdout",
     "output_type": "stream",
     "text": [
      "10\n"
     ]
    }
   ],
   "source": [
    "x = 10\n",
    "print (x)"
   ]
  },
  {
   "cell_type": "code",
   "execution_count": 10,
   "id": "d8ccfa8b",
   "metadata": {},
   "outputs": [],
   "source": [
    "x = 2022"
   ]
  },
  {
   "cell_type": "code",
   "execution_count": 14,
   "id": "960ab2e6",
   "metadata": {},
   "outputs": [
    {
     "name": "stdout",
     "output_type": "stream",
     "text": [
      "Mya Walker\n"
     ]
    }
   ],
   "source": [
    "name = 'Mya Walker'\n",
    "print(name)"
   ]
  },
  {
   "cell_type": "code",
   "execution_count": 15,
   "id": "110e0794",
   "metadata": {},
   "outputs": [
    {
     "data": {
      "text/plain": [
       "'Mya Walker'"
      ]
     },
     "execution_count": 15,
     "metadata": {},
     "output_type": "execute_result"
    }
   ],
   "source": [
    "name"
   ]
  },
  {
   "cell_type": "code",
   "execution_count": 27,
   "id": "b8520b3c",
   "metadata": {},
   "outputs": [
    {
     "name": "stdout",
     "output_type": "stream",
     "text": [
      "Greetings, Mya  Walker Welcome to our company\n"
     ]
    }
   ],
   "source": [
    "\n",
    "New_first = \"Mya \"\n",
    "New_last = \"Walker\"\n",
    "print(\"Greetings,\", New_first, New_last, 'Welcome to our company')"
   ]
  },
  {
   "cell_type": "code",
   "execution_count": 28,
   "id": "3ad9601f",
   "metadata": {},
   "outputs": [
    {
     "name": "stdout",
     "output_type": "stream",
     "text": [
      "Greetings, Mya Walker welcome to our company\n"
     ]
    }
   ],
   "source": [
    "print('Greetings, {}{}'. format(New_first, New_last), 'welcome to our company')"
   ]
  },
  {
   "cell_type": "code",
   "execution_count": 29,
   "id": "fb205249",
   "metadata": {},
   "outputs": [],
   "source": [
    "name = 'John'"
   ]
  },
  {
   "cell_type": "code",
   "execution_count": 34,
   "id": "874bbc6c",
   "metadata": {},
   "outputs": [
    {
     "name": "stdout",
     "output_type": "stream",
     "text": [
      "Hello, John\n"
     ]
    }
   ],
   "source": [
    "print(f\"Hello, {name}\")"
   ]
  },
  {
   "cell_type": "code",
   "execution_count": 9,
   "id": "1fd65cd5",
   "metadata": {},
   "outputs": [],
   "source": [
    "name = 'Enami'\n",
    "greetings = 'Welcome to data science class'"
   ]
  },
  {
   "cell_type": "code",
   "execution_count": 10,
   "id": "920a1af1",
   "metadata": {},
   "outputs": [
    {
     "name": "stdout",
     "output_type": "stream",
     "text": [
      "Hello Enami\n",
      " Welcome to data science class\n"
     ]
    }
   ],
   "source": [
    "print('Hello {}\\n {}'.format(name, greetings))"
   ]
  },
  {
   "cell_type": "code",
   "execution_count": 18,
   "id": "52fdc078",
   "metadata": {},
   "outputs": [
    {
     "name": "stdout",
     "output_type": "stream",
     "text": [
      "Hello Enami Welcome to data science class\n"
     ]
    }
   ],
   "source": [
    "print('Hello ' + name +' '+ greetings)"
   ]
  },
  {
   "cell_type": "markdown",
   "id": "5218e2a9",
   "metadata": {},
   "source": [
    "* ### string methods"
   ]
  },
  {
   "cell_type": "code",
   "execution_count": 26,
   "id": "8f35d00d",
   "metadata": {},
   "outputs": [],
   "source": [
    "# upper() method\n",
    "name = 'naomi'"
   ]
  },
  {
   "cell_type": "code",
   "execution_count": 20,
   "id": "7f4ded28",
   "metadata": {},
   "outputs": [
    {
     "name": "stdout",
     "output_type": "stream",
     "text": [
      "ENAMI\n"
     ]
    }
   ],
   "source": [
    "print(name.upper())"
   ]
  },
  {
   "cell_type": "code",
   "execution_count": 25,
   "id": "ce93d82c",
   "metadata": {},
   "outputs": [
    {
     "name": "stdout",
     "output_type": "stream",
     "text": [
      "Naomi\n"
     ]
    }
   ],
   "source": [
    "# title() method\n",
    "print(name.title())"
   ]
  },
  {
   "cell_type": "code",
   "execution_count": 22,
   "id": "c5779548",
   "metadata": {},
   "outputs": [],
   "source": [
    "# lower() method\n",
    "second_name = 'JOHN'"
   ]
  },
  {
   "cell_type": "code",
   "execution_count": 23,
   "id": "0a6ead8f",
   "metadata": {},
   "outputs": [
    {
     "name": "stdout",
     "output_type": "stream",
     "text": [
      "john\n"
     ]
    }
   ],
   "source": [
    "print(second_name.lower())"
   ]
  },
  {
   "cell_type": "code",
   "execution_count": 27,
   "id": "5783973a",
   "metadata": {},
   "outputs": [],
   "source": [
    "# center() method\n",
    "center_name = 'Saujane'"
   ]
  },
  {
   "cell_type": "code",
   "execution_count": 28,
   "id": "778cee00",
   "metadata": {},
   "outputs": [
    {
     "name": "stdout",
     "output_type": "stream",
     "text": [
      "                          Saujane                           \n"
     ]
    }
   ],
   "source": [
    "print(center_name.center(60))"
   ]
  },
  {
   "cell_type": "code",
   "execution_count": 31,
   "id": "0e7e057f",
   "metadata": {},
   "outputs": [
    {
     "name": "stdout",
     "output_type": "stream",
     "text": [
      "2\n"
     ]
    }
   ],
   "source": [
    "# count() method\n",
    "print(center_name.count('a'))"
   ]
  },
  {
   "cell_type": "code",
   "execution_count": 32,
   "id": "4c8315bd",
   "metadata": {},
   "outputs": [
    {
     "name": "stdout",
     "output_type": "stream",
     "text": [
      "True\n"
     ]
    }
   ],
   "source": [
    "# endwith() method\n",
    "print(center_name.endswith('e'))"
   ]
  },
  {
   "cell_type": "code",
   "execution_count": 33,
   "id": "d26eecbd",
   "metadata": {},
   "outputs": [],
   "source": [
    "# isnumeric() method\n",
    "num = '123'"
   ]
  },
  {
   "cell_type": "code",
   "execution_count": 34,
   "id": "97ff117f",
   "metadata": {},
   "outputs": [
    {
     "data": {
      "text/plain": [
       "str"
      ]
     },
     "execution_count": 34,
     "metadata": {},
     "output_type": "execute_result"
    }
   ],
   "source": [
    "type(num)"
   ]
  },
  {
   "cell_type": "code",
   "execution_count": 35,
   "id": "874b84c1",
   "metadata": {},
   "outputs": [
    {
     "name": "stdout",
     "output_type": "stream",
     "text": [
      "True\n"
     ]
    }
   ],
   "source": [
    "print(num.isnumeric())"
   ]
  },
  {
   "cell_type": "code",
   "execution_count": 36,
   "id": "2f419968",
   "metadata": {},
   "outputs": [],
   "source": [
    "num_1 = num.isnumeric()"
   ]
  },
  {
   "cell_type": "code",
   "execution_count": 37,
   "id": "6544e341",
   "metadata": {},
   "outputs": [
    {
     "data": {
      "text/plain": [
       "bool"
      ]
     },
     "execution_count": 37,
     "metadata": {},
     "output_type": "execute_result"
    }
   ],
   "source": [
    "type(num_1)"
   ]
  },
  {
   "cell_type": "code",
   "execution_count": 43,
   "id": "3f8f5051",
   "metadata": {},
   "outputs": [],
   "source": [
    "# strip method\n",
    "last_name = '    Smith'"
   ]
  },
  {
   "cell_type": "code",
   "execution_count": 44,
   "id": "59055759",
   "metadata": {},
   "outputs": [
    {
     "data": {
      "text/plain": [
       "9"
      ]
     },
     "execution_count": 44,
     "metadata": {},
     "output_type": "execute_result"
    }
   ],
   "source": [
    "len(last_name)"
   ]
  },
  {
   "cell_type": "code",
   "execution_count": 45,
   "id": "1bd7ce31",
   "metadata": {},
   "outputs": [],
   "source": [
    "r_name = last_name.rstrip()"
   ]
  },
  {
   "cell_type": "code",
   "execution_count": 46,
   "id": "662880ae",
   "metadata": {},
   "outputs": [
    {
     "data": {
      "text/plain": [
       "9"
      ]
     },
     "execution_count": 46,
     "metadata": {},
     "output_type": "execute_result"
    }
   ],
   "source": [
    "len(r_name)"
   ]
  },
  {
   "cell_type": "code",
   "execution_count": 47,
   "id": "4e1e3890",
   "metadata": {},
   "outputs": [],
   "source": [
    "l_name = last_name.lstrip()"
   ]
  },
  {
   "cell_type": "code",
   "execution_count": 48,
   "id": "996be6fb",
   "metadata": {},
   "outputs": [
    {
     "data": {
      "text/plain": [
       "'Smith'"
      ]
     },
     "execution_count": 48,
     "metadata": {},
     "output_type": "execute_result"
    }
   ],
   "source": [
    "l_name"
   ]
  },
  {
   "cell_type": "code",
   "execution_count": 49,
   "id": "c345fd52",
   "metadata": {},
   "outputs": [
    {
     "data": {
      "text/plain": [
       "5"
      ]
     },
     "execution_count": 49,
     "metadata": {},
     "output_type": "execute_result"
    }
   ],
   "source": [
    "len(l_name)"
   ]
  },
  {
   "cell_type": "code",
   "execution_count": 50,
   "id": "aef1da6d",
   "metadata": {},
   "outputs": [],
   "source": [
    "sname = last_name.strip()"
   ]
  },
  {
   "cell_type": "code",
   "execution_count": 51,
   "id": "b2063032",
   "metadata": {},
   "outputs": [
    {
     "data": {
      "text/plain": [
       "'Smith'"
      ]
     },
     "execution_count": 51,
     "metadata": {},
     "output_type": "execute_result"
    }
   ],
   "source": [
    "sname"
   ]
  },
  {
   "cell_type": "code",
   "execution_count": 52,
   "id": "f11918c6",
   "metadata": {},
   "outputs": [
    {
     "data": {
      "text/plain": [
       "5"
      ]
     },
     "execution_count": 52,
     "metadata": {},
     "output_type": "execute_result"
    }
   ],
   "source": [
    "len(sname)"
   ]
  },
  {
   "cell_type": "markdown",
   "id": "ebb05c7e",
   "metadata": {},
   "source": [
    "* ## List\n",
    "Lists are used to store multiple items in a single variable. List members are created inside square brackets"
   ]
  },
  {
   "cell_type": "code",
   "execution_count": 1,
   "id": "4d26271b",
   "metadata": {},
   "outputs": [
    {
     "data": {
      "text/plain": [
       "['apple', 'orange', 'mango', 'banana']"
      ]
     },
     "execution_count": 1,
     "metadata": {},
     "output_type": "execute_result"
    }
   ],
   "source": [
    "a_list = ['apple', 'orange', 'mango', 'banana']\n",
    "a_list"
   ]
  },
  {
   "cell_type": "code",
   "execution_count": 2,
   "id": "276a8b9d",
   "metadata": {},
   "outputs": [
    {
     "data": {
      "text/plain": [
       "list"
      ]
     },
     "execution_count": 2,
     "metadata": {},
     "output_type": "execute_result"
    }
   ],
   "source": [
    "type(a_list)"
   ]
  },
  {
   "cell_type": "code",
   "execution_count": 3,
   "id": "ff9b0a84",
   "metadata": {},
   "outputs": [],
   "source": [
    "# append method\n",
    "a_list.append('peach')"
   ]
  },
  {
   "cell_type": "code",
   "execution_count": 3,
   "id": "e52036eb",
   "metadata": {},
   "outputs": [
    {
     "ename": "NameError",
     "evalue": "name 'a_list' is not defined",
     "output_type": "error",
     "traceback": [
      "\u001b[0;31m---------------------------------------------------------------------------\u001b[0m",
      "\u001b[0;31mNameError\u001b[0m                                 Traceback (most recent call last)",
      "Input \u001b[0;32mIn [3]\u001b[0m, in \u001b[0;36m<cell line: 1>\u001b[0;34m()\u001b[0m\n\u001b[0;32m----> 1\u001b[0m \u001b[43ma_list\u001b[49m\n",
      "\u001b[0;31mNameError\u001b[0m: name 'a_list' is not defined"
     ]
    }
   ],
   "source": [
    "a_list"
   ]
  },
  {
   "cell_type": "code",
   "execution_count": 4,
   "id": "f4884605",
   "metadata": {},
   "outputs": [
    {
     "ename": "NameError",
     "evalue": "name 'a_list' is not defined",
     "output_type": "error",
     "traceback": [
      "\u001b[0;31m---------------------------------------------------------------------------\u001b[0m",
      "\u001b[0;31mNameError\u001b[0m                                 Traceback (most recent call last)",
      "Input \u001b[0;32mIn [4]\u001b[0m, in \u001b[0;36m<cell line: 2>\u001b[0;34m()\u001b[0m\n\u001b[1;32m      1\u001b[0m \u001b[38;5;66;03m# pop method\u001b[39;00m\n\u001b[0;32m----> 2\u001b[0m \u001b[43ma_list\u001b[49m\u001b[38;5;241m.\u001b[39mpop(\u001b[38;5;241m1\u001b[39m)\n",
      "\u001b[0;31mNameError\u001b[0m: name 'a_list' is not defined"
     ]
    }
   ],
   "source": [
    "# pop method\n",
    "a_list.pop(1)"
   ]
  },
  {
   "cell_type": "code",
   "execution_count": 6,
   "id": "9b7d272c",
   "metadata": {},
   "outputs": [
    {
     "data": {
      "text/plain": [
       "'apple'"
      ]
     },
     "execution_count": 6,
     "metadata": {},
     "output_type": "execute_result"
    }
   ],
   "source": [
    "a_list[0]"
   ]
  },
  {
   "cell_type": "code",
   "execution_count": 7,
   "id": "489a2cdc",
   "metadata": {},
   "outputs": [
    {
     "data": {
      "text/plain": [
       "'peach'"
      ]
     },
     "execution_count": 7,
     "metadata": {},
     "output_type": "execute_result"
    }
   ],
   "source": [
    "a_list[-1]"
   ]
  },
  {
   "cell_type": "code",
   "execution_count": 9,
   "id": "67c743f9",
   "metadata": {},
   "outputs": [
    {
     "data": {
      "text/plain": [
       "'peach'"
      ]
     },
     "execution_count": 9,
     "metadata": {},
     "output_type": "execute_result"
    }
   ],
   "source": [
    "a_list[3]"
   ]
  },
  {
   "cell_type": "code",
   "execution_count": 13,
   "id": "65670d88",
   "metadata": {},
   "outputs": [],
   "source": [
    "b_list = ['walter', 'mason', 'clarissa', 'knox', 'mom', 'dad', 'jasey', 'aly', 'dell', 'summer']"
   ]
  },
  {
   "cell_type": "code",
   "execution_count": 14,
   "id": "8bf7f141",
   "metadata": {},
   "outputs": [],
   "source": [
    "b_list.append('laura')"
   ]
  },
  {
   "cell_type": "code",
   "execution_count": 16,
   "id": "7534a08e",
   "metadata": {},
   "outputs": [
    {
     "data": {
      "text/plain": [
       "['walter',\n",
       " 'mason',\n",
       " 'clarissa',\n",
       " 'knox',\n",
       " 'mom',\n",
       " 'dad',\n",
       " 'jasey',\n",
       " 'aly',\n",
       " 'dell',\n",
       " 'summer',\n",
       " 'laura']"
      ]
     },
     "execution_count": 16,
     "metadata": {},
     "output_type": "execute_result"
    }
   ],
   "source": [
    "b_list"
   ]
  },
  {
   "cell_type": "code",
   "execution_count": 17,
   "id": "3bf61c4d",
   "metadata": {},
   "outputs": [
    {
     "data": {
      "text/plain": [
       "'dell'"
      ]
     },
     "execution_count": 17,
     "metadata": {},
     "output_type": "execute_result"
    }
   ],
   "source": [
    "b_list.pop(8)"
   ]
  },
  {
   "cell_type": "code",
   "execution_count": 19,
   "id": "f3b2a246",
   "metadata": {},
   "outputs": [
    {
     "data": {
      "text/plain": [
       "'laura'"
      ]
     },
     "execution_count": 19,
     "metadata": {},
     "output_type": "execute_result"
    }
   ],
   "source": [
    "b_list[-1]"
   ]
  },
  {
   "cell_type": "code",
   "execution_count": 24,
   "id": "67449ac6",
   "metadata": {},
   "outputs": [
    {
     "data": {
      "text/plain": [
       "['apple', 'peach']"
      ]
     },
     "execution_count": 24,
     "metadata": {},
     "output_type": "execute_result"
    }
   ],
   "source": [
    "# remove method\n",
    "a_list.remove('banana')\n",
    "a_list"
   ]
  },
  {
   "cell_type": "code",
   "execution_count": 25,
   "id": "2818e78f",
   "metadata": {},
   "outputs": [
    {
     "data": {
      "text/plain": [
       "['apple', 'peach']"
      ]
     },
     "execution_count": 25,
     "metadata": {},
     "output_type": "execute_result"
    }
   ],
   "source": [
    "b_list = a_list.copy()\n",
    "b_list"
   ]
  },
  {
   "cell_type": "markdown",
   "id": "163fe1a0",
   "metadata": {},
   "source": [
    " * ## dictionaries\n",
    " Are used to store key: value. The items in the dictionary are created inside curly brackets"
   ]
  },
  {
   "cell_type": "code",
   "execution_count": 31,
   "id": "0a8b2a6a",
   "metadata": {},
   "outputs": [
    {
     "data": {
      "text/plain": [
       "{'make': 'Toyota', 'Model': 'Land Cruiser', 'Year': '2022'}"
      ]
     },
     "execution_count": 31,
     "metadata": {},
     "output_type": "execute_result"
    }
   ],
   "source": [
    "#exp: \n",
    "cars = {'make': 'Toyota', 'Model':'Land Cruiser', 'Year':'2022'}\n",
    "cars"
   ]
  },
  {
   "cell_type": "code",
   "execution_count": 32,
   "id": "3947f6c5",
   "metadata": {},
   "outputs": [
    {
     "data": {
      "text/plain": [
       "'Toyota'"
      ]
     },
     "execution_count": 32,
     "metadata": {},
     "output_type": "execute_result"
    }
   ],
   "source": [
    "cars['make']"
   ]
  },
  {
   "cell_type": "code",
   "execution_count": 35,
   "id": "2a9392f6",
   "metadata": {},
   "outputs": [
    {
     "data": {
      "text/plain": [
       "{'make': 'Toyota', 'Model': 'Land Cruiser', 'Year': 2023, 'year': 2023}"
      ]
     },
     "execution_count": 35,
     "metadata": {},
     "output_type": "execute_result"
    }
   ],
   "source": [
    "cars['Year'] = 2023\n",
    "cars"
   ]
  },
  {
   "cell_type": "code",
   "execution_count": 36,
   "id": "185948c7",
   "metadata": {},
   "outputs": [
    {
     "data": {
      "text/plain": [
       "{'make': 'Toyota',\n",
       " 'Model': 'Land Cruiser',\n",
       " 'Year': 2023,\n",
       " 'year': 2023,\n",
       " 'color': 'black'}"
      ]
     },
     "execution_count": 36,
     "metadata": {},
     "output_type": "execute_result"
    }
   ],
   "source": [
    "cars['color'] = 'black'\n",
    "cars"
   ]
  },
  {
   "cell_type": "code",
   "execution_count": 37,
   "id": "7db9fee0",
   "metadata": {},
   "outputs": [
    {
     "data": {
      "text/plain": [
       "dict_keys(['make', 'Model', 'Year', 'year', 'color'])"
      ]
     },
     "execution_count": 37,
     "metadata": {},
     "output_type": "execute_result"
    }
   ],
   "source": [
    "cars.keys()"
   ]
  },
  {
   "cell_type": "code",
   "execution_count": 38,
   "id": "284f50c5",
   "metadata": {},
   "outputs": [
    {
     "data": {
      "text/plain": [
       "dict_values(['Toyota', 'Land Cruiser', 2023, 2023, 'black'])"
      ]
     },
     "execution_count": 38,
     "metadata": {},
     "output_type": "execute_result"
    }
   ],
   "source": [
    "cars.values()"
   ]
  },
  {
   "cell_type": "code",
   "execution_count": 42,
   "id": "882c0649",
   "metadata": {},
   "outputs": [],
   "source": [
    "mycar = {'make': 'volkswagen', 'model': 'tiguan', 'year':2014, 'color':'dark blue', 'owner':'mya'}"
   ]
  },
  {
   "cell_type": "code",
   "execution_count": 45,
   "id": "281d9d57",
   "metadata": {},
   "outputs": [
    {
     "data": {
      "text/plain": [
       "{'make': 'volkswagen',\n",
       " 'model': 'tiguan',\n",
       " 'year': 2014,\n",
       " 'color': 'dark blue',\n",
       " 'owner': 'mya'}"
      ]
     },
     "execution_count": 45,
     "metadata": {},
     "output_type": "execute_result"
    }
   ],
   "source": [
    "mycar"
   ]
  },
  {
   "cell_type": "code",
   "execution_count": 46,
   "id": "8f03bd49",
   "metadata": {},
   "outputs": [
    {
     "data": {
      "text/plain": [
       "dict_keys(['make', 'model', 'year', 'color', 'owner'])"
      ]
     },
     "execution_count": 46,
     "metadata": {},
     "output_type": "execute_result"
    }
   ],
   "source": [
    "mycar.keys()"
   ]
  },
  {
   "cell_type": "code",
   "execution_count": 47,
   "id": "2a2233dc",
   "metadata": {},
   "outputs": [
    {
     "data": {
      "text/plain": [
       "dict_values(['volkswagen', 'tiguan', 2014, 'dark blue', 'mya'])"
      ]
     },
     "execution_count": 47,
     "metadata": {},
     "output_type": "execute_result"
    }
   ],
   "source": [
    "mycar.values()"
   ]
  },
  {
   "cell_type": "markdown",
   "id": "cd9ef7f2",
   "metadata": {},
   "source": []
  }
 ],
 "metadata": {
  "kernelspec": {
   "display_name": "Python 3 (ipykernel)",
   "language": "python",
   "name": "python3"
  },
  "language_info": {
   "codemirror_mode": {
    "name": "ipython",
    "version": 3
   },
   "file_extension": ".py",
   "mimetype": "text/x-python",
   "name": "python",
   "nbconvert_exporter": "python",
   "pygments_lexer": "ipython3",
   "version": "3.9.12"
  }
 },
 "nbformat": 4,
 "nbformat_minor": 5
}
