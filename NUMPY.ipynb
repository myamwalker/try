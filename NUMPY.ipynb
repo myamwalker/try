{
 "cells": [
  {
   "cell_type": "markdown",
   "id": "d6233db7",
   "metadata": {},
   "source": [
    "# NumPy is a linerar algebra library for python"
   ]
  },
  {
   "cell_type": "code",
   "execution_count": 1,
   "id": "809c880a",
   "metadata": {},
   "outputs": [],
   "source": [
    "import numpy as np"
   ]
  },
  {
   "cell_type": "code",
   "execution_count": 3,
   "id": "2404e3bc",
   "metadata": {},
   "outputs": [
    {
     "data": {
      "text/plain": [
       "list"
      ]
     },
     "execution_count": 3,
     "metadata": {},
     "output_type": "execute_result"
    }
   ],
   "source": [
    "mylist = [i for i in range(10)]\n",
    "type(mylist)"
   ]
  },
  {
   "cell_type": "code",
   "execution_count": 4,
   "id": "22fd13ed",
   "metadata": {},
   "outputs": [
    {
     "data": {
      "text/plain": [
       "[0, 1, 2, 3, 4, 5, 6, 7, 8, 9, 0, 1, 2, 3, 4, 5, 6, 7, 8, 9]"
      ]
     },
     "execution_count": 4,
     "metadata": {},
     "output_type": "execute_result"
    }
   ],
   "source": [
    "mylist*2"
   ]
  },
  {
   "cell_type": "code",
   "execution_count": 5,
   "id": "f457f764",
   "metadata": {},
   "outputs": [
    {
     "data": {
      "text/plain": [
       "numpy.ndarray"
      ]
     },
     "execution_count": 5,
     "metadata": {},
     "output_type": "execute_result"
    }
   ],
   "source": [
    "myarray = np.array(mylist)\n",
    "type(myarray)"
   ]
  },
  {
   "cell_type": "code",
   "execution_count": 6,
   "id": "396901db",
   "metadata": {},
   "outputs": [
    {
     "data": {
      "text/plain": [
       "array([ 0,  2,  4,  6,  8, 10, 12, 14, 16, 18])"
      ]
     },
     "execution_count": 6,
     "metadata": {},
     "output_type": "execute_result"
    }
   ],
   "source": [
    "myarray*2"
   ]
  },
  {
   "cell_type": "code",
   "execution_count": 7,
   "id": "fd263b1a",
   "metadata": {},
   "outputs": [
    {
     "data": {
      "text/plain": [
       "array([[ 0,  1,  5],\n",
       "       [-2,  1,  4],\n",
       "       [76,  8,  9]])"
      ]
     },
     "execution_count": 7,
     "metadata": {},
     "output_type": "execute_result"
    }
   ],
   "source": [
    "mymatrix = np.array([[0,1,5],[-2,1,4],[76,8,9]])\n",
    "mymatrix"
   ]
  },
  {
   "cell_type": "code",
   "execution_count": 11,
   "id": "48fa9f7d",
   "metadata": {},
   "outputs": [
    {
     "data": {
      "text/plain": [
       "array([[ 0],\n",
       "       [-2],\n",
       "       [76]])"
      ]
     },
     "execution_count": 11,
     "metadata": {},
     "output_type": "execute_result"
    }
   ],
   "source": [
    "# first row\n",
    "mymatrix[:,0:1]"
   ]
  },
  {
   "cell_type": "code",
   "execution_count": 12,
   "id": "a9955ee7",
   "metadata": {},
   "outputs": [
    {
     "data": {
      "text/plain": [
       "array([[1],\n",
       "       [1],\n",
       "       [8]])"
      ]
     },
     "execution_count": 12,
     "metadata": {},
     "output_type": "execute_result"
    }
   ],
   "source": [
    "# middle row\n",
    "mymatrix[0:3,1:2]"
   ]
  },
  {
   "cell_type": "code",
   "execution_count": 13,
   "id": "eb94094b",
   "metadata": {},
   "outputs": [
    {
     "data": {
      "text/plain": [
       "array([[5],\n",
       "       [4]])"
      ]
     },
     "execution_count": 13,
     "metadata": {},
     "output_type": "execute_result"
    }
   ],
   "source": [
    "mymatrix[0:2,2:3]"
   ]
  },
  {
   "cell_type": "code",
   "execution_count": 15,
   "id": "1d6df7c7",
   "metadata": {},
   "outputs": [
    {
     "data": {
      "text/plain": [
       "array([[ 0,  1,  5],\n",
       "       [-2,  1,  4],\n",
       "       [76,  8,  9]])"
      ]
     },
     "execution_count": 15,
     "metadata": {},
     "output_type": "execute_result"
    }
   ],
   "source": [
    "# whole matrix \n",
    "mymatrix[:,:]"
   ]
  },
  {
   "cell_type": "code",
   "execution_count": 16,
   "id": "be8d0f5c",
   "metadata": {},
   "outputs": [
    {
     "data": {
      "text/plain": [
       "array([[ 0,  1,  5],\n",
       "       [-2,  1,  4],\n",
       "       [76,  8,  9]])"
      ]
     },
     "execution_count": 16,
     "metadata": {},
     "output_type": "execute_result"
    }
   ],
   "source": [
    "# whole matrix\n",
    "mymatrix[0:3,0:3]"
   ]
  },
  {
   "cell_type": "markdown",
   "id": "583418ff",
   "metadata": {},
   "source": [
    "## Built-in Methods"
   ]
  },
  {
   "cell_type": "markdown",
   "id": "19f1a06c",
   "metadata": {},
   "source": [
    "* ## arrange\n",
    "    * return evenly spaced values within a given interval\n",
    "    "
   ]
  },
  {
   "cell_type": "code",
   "execution_count": 18,
   "id": "5f58c9be",
   "metadata": {},
   "outputs": [
    {
     "data": {
      "text/plain": [
       "array([0, 1, 2, 3, 4, 5, 6, 7, 8, 9])"
      ]
     },
     "execution_count": 18,
     "metadata": {},
     "output_type": "execute_result"
    }
   ],
   "source": [
    "myarange = np.arange(10)\n",
    "myarange"
   ]
  },
  {
   "cell_type": "code",
   "execution_count": 21,
   "id": "f4853aac",
   "metadata": {},
   "outputs": [
    {
     "data": {
      "text/plain": [
       "array([0, 2, 4, 6, 8])"
      ]
     },
     "execution_count": 21,
     "metadata": {},
     "output_type": "execute_result"
    }
   ],
   "source": [
    "myrangestep = np.arange(0,10,2)\n",
    "myrangestep"
   ]
  },
  {
   "cell_type": "markdown",
   "id": "7493b728",
   "metadata": {},
   "source": [
    "# zeros and ones\n",
    "* ### generate arrays of zeros or ones"
   ]
  },
  {
   "cell_type": "code",
   "execution_count": 22,
   "id": "0ff9d499",
   "metadata": {},
   "outputs": [
    {
     "data": {
      "text/plain": [
       "array([0., 0., 0., 0.])"
      ]
     },
     "execution_count": 22,
     "metadata": {},
     "output_type": "execute_result"
    }
   ],
   "source": [
    "Z = np.zeros(4)\n",
    "Z"
   ]
  },
  {
   "cell_type": "code",
   "execution_count": 23,
   "id": "4575e5ea",
   "metadata": {},
   "outputs": [
    {
     "data": {
      "text/plain": [
       "array([[0., 0., 0.],\n",
       "       [0., 0., 0.],\n",
       "       [0., 0., 0.]])"
      ]
     },
     "execution_count": 23,
     "metadata": {},
     "output_type": "execute_result"
    }
   ],
   "source": [
    "Z3 = np.zeros((3,3))\n",
    "Z3"
   ]
  },
  {
   "cell_type": "code",
   "execution_count": 24,
   "id": "10336a6f",
   "metadata": {},
   "outputs": [
    {
     "data": {
      "text/plain": [
       "array([1., 1., 1., 1., 1.])"
      ]
     },
     "execution_count": 24,
     "metadata": {},
     "output_type": "execute_result"
    }
   ],
   "source": [
    "O1 = np.ones(5)\n",
    "O1"
   ]
  },
  {
   "cell_type": "code",
   "execution_count": 26,
   "id": "c4e244d1",
   "metadata": {},
   "outputs": [
    {
     "data": {
      "text/plain": [
       "array([[1., 1., 1., 1., 1., 1.],\n",
       "       [1., 1., 1., 1., 1., 1.],\n",
       "       [1., 1., 1., 1., 1., 1.],\n",
       "       [1., 1., 1., 1., 1., 1.],\n",
       "       [1., 1., 1., 1., 1., 1.],\n",
       "       [1., 1., 1., 1., 1., 1.]])"
      ]
     },
     "execution_count": 26,
     "metadata": {},
     "output_type": "execute_result"
    }
   ],
   "source": [
    "O6 = np.ones((6,6))\n",
    "O6"
   ]
  },
  {
   "cell_type": "markdown",
   "id": "e82f157e",
   "metadata": {},
   "source": [
    "# linspace\n",
    "* ### return evenly spaced numbers over a specified interval"
   ]
  },
  {
   "cell_type": "code",
   "execution_count": 30,
   "id": "6fd93cef",
   "metadata": {},
   "outputs": [
    {
     "data": {
      "text/plain": [
       "array([ 1.,  4.,  7., 10., 13., 16., 19., 22., 25.])"
      ]
     },
     "execution_count": 30,
     "metadata": {},
     "output_type": "execute_result"
    }
   ],
   "source": [
    "L = np.linspace(1,25,9)\n",
    "L"
   ]
  },
  {
   "cell_type": "code",
   "execution_count": 31,
   "id": "7e2c5f10",
   "metadata": {},
   "outputs": [
    {
     "data": {
      "text/plain": [
       "array([[ 1.,  4.,  7.],\n",
       "       [10., 13., 16.],\n",
       "       [19., 22., 25.]])"
      ]
     },
     "execution_count": 31,
     "metadata": {},
     "output_type": "execute_result"
    }
   ],
   "source": [
    "L3 = L.reshape(3,3)\n",
    "L3"
   ]
  },
  {
   "cell_type": "markdown",
   "id": "da40ffe4",
   "metadata": {},
   "source": [
    "# eye\n",
    "* ### creates an identity matrix"
   ]
  },
  {
   "cell_type": "code",
   "execution_count": 34,
   "id": "12511912",
   "metadata": {},
   "outputs": [
    {
     "data": {
      "text/plain": [
       "array([[1., 0., 0., 0.],\n",
       "       [0., 1., 0., 0.],\n",
       "       [0., 0., 1., 0.],\n",
       "       [0., 0., 0., 1.]])"
      ]
     },
     "execution_count": 34,
     "metadata": {},
     "output_type": "execute_result"
    }
   ],
   "source": [
    "I4 = np.eye(4)\n",
    "I4"
   ]
  },
  {
   "cell_type": "code",
   "execution_count": 35,
   "id": "aae4f1bb",
   "metadata": {},
   "outputs": [
    {
     "data": {
      "text/plain": [
       "array([[1., 0.],\n",
       "       [0., 1.]])"
      ]
     },
     "execution_count": 35,
     "metadata": {},
     "output_type": "execute_result"
    }
   ],
   "source": [
    "I2 = np.eye(2)\n",
    "I2"
   ]
  },
  {
   "cell_type": "code",
   "execution_count": 37,
   "id": "3a756794",
   "metadata": {},
   "outputs": [
    {
     "data": {
      "text/plain": [
       "array([[1., 0., 0.],\n",
       "       [0., 1., 0.],\n",
       "       [0., 0., 1.],\n",
       "       [0., 0., 0.]])"
      ]
     },
     "execution_count": 37,
     "metadata": {},
     "output_type": "execute_result"
    }
   ],
   "source": [
    "I43 = np.eye(4,3)\n",
    "I43"
   ]
  },
  {
   "cell_type": "code",
   "execution_count": 39,
   "id": "74c42397",
   "metadata": {},
   "outputs": [
    {
     "data": {
      "text/plain": [
       "array([[1., 0.],\n",
       "       [0., 1.]])"
      ]
     },
     "execution_count": 39,
     "metadata": {},
     "output_type": "execute_result"
    }
   ],
   "source": [
    "# select rows and columns 1&2\n",
    "I43[0:2,0:2]"
   ]
  },
  {
   "cell_type": "markdown",
   "id": "8fc30fa3",
   "metadata": {},
   "source": [
    "# random\n",
    "* ### numpy also has lots of ways to create random number arrays"
   ]
  },
  {
   "cell_type": "code",
   "execution_count": 40,
   "id": "b481faea",
   "metadata": {},
   "outputs": [],
   "source": [
    "import random"
   ]
  },
  {
   "cell_type": "code",
   "execution_count": 41,
   "id": "3715bd49",
   "metadata": {},
   "outputs": [
    {
     "data": {
      "text/plain": [
       "array([[0.84041664, 0.21342139, 0.44234487, 0.55426746],\n",
       "       [0.46765039, 0.70337306, 0.03566949, 0.51123303],\n",
       "       [0.74360559, 0.1776259 , 0.64083215, 0.07164692]])"
      ]
     },
     "execution_count": 41,
     "metadata": {},
     "output_type": "execute_result"
    }
   ],
   "source": [
    "arr = np.random.rand(3,4)\n",
    "arr"
   ]
  },
  {
   "cell_type": "code",
   "execution_count": 42,
   "id": "117b7cce",
   "metadata": {},
   "outputs": [],
   "source": [
    "from numpy.random import rand"
   ]
  },
  {
   "cell_type": "code",
   "execution_count": 44,
   "id": "e2da31da",
   "metadata": {},
   "outputs": [
    {
     "data": {
      "text/plain": [
       "array([[0.74640527, 0.2941211 , 0.10683995, 0.9390282 ],\n",
       "       [0.56988779, 0.23102051, 0.62814895, 0.91957606],\n",
       "       [0.42423721, 0.70665683, 0.4556918 , 0.53821036]])"
      ]
     },
     "execution_count": 44,
     "metadata": {},
     "output_type": "execute_result"
    }
   ],
   "source": [
    "arr_simple = rand(3,4)\n",
    "arr_simple"
   ]
  },
  {
   "cell_type": "markdown",
   "id": "3fbb5f43",
   "metadata": {},
   "source": [
    "# randn\n",
    "* ### return a sample(s) from the standard normal distribution. unlike rand which is uniform"
   ]
  },
  {
   "cell_type": "code",
   "execution_count": 45,
   "id": "9c981252",
   "metadata": {},
   "outputs": [],
   "source": [
    "from numpy.random import randn"
   ]
  },
  {
   "cell_type": "code",
   "execution_count": 46,
   "id": "64c6b725",
   "metadata": {},
   "outputs": [
    {
     "data": {
      "text/plain": [
       "array([[-1.50628604,  0.44814306],\n",
       "       [ 0.40584051,  0.1647221 ],\n",
       "       [-1.51482241,  0.9041686 ]])"
      ]
     },
     "execution_count": 46,
     "metadata": {},
     "output_type": "execute_result"
    }
   ],
   "source": [
    "mat = randn(3,2)\n",
    "mat"
   ]
  },
  {
   "cell_type": "code",
   "execution_count": null,
   "id": "f4877d46",
   "metadata": {},
   "outputs": [],
   "source": []
  }
 ],
 "metadata": {
  "kernelspec": {
   "display_name": "Python 3 (ipykernel)",
   "language": "python",
   "name": "python3"
  },
  "language_info": {
   "codemirror_mode": {
    "name": "ipython",
    "version": 3
   },
   "file_extension": ".py",
   "mimetype": "text/x-python",
   "name": "python",
   "nbconvert_exporter": "python",
   "pygments_lexer": "ipython3",
   "version": "3.9.12"
  }
 },
 "nbformat": 4,
 "nbformat_minor": 5
}
